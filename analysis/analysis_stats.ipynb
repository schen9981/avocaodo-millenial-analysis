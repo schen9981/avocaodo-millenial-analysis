{
 "cells": [
  {
   "cell_type": "markdown",
   "metadata": {},
   "source": [
    "## This is our workspace for statistical analysis!"
   ]
  },
  {
   "cell_type": "markdown",
   "metadata": {},
   "source": [
    "Add cells, do exploratory analysis, go ham."
   ]
  },
  {
   "cell_type": "code",
   "execution_count": 1,
   "metadata": {},
   "outputs": [],
   "source": [
    "# feel free to add more\n",
    "\n",
    "import sqlite3\n",
    "import numpy as np\n",
    "import pandas as np\n",
    "from scipy import stats\n",
    "import statsmodels.api as sm\n",
    "from statsmodels.tools import eval_measures"
   ]
  },
  {
   "cell_type": "code",
   "execution_count": 3,
   "metadata": {},
   "outputs": [],
   "source": [
    "# Create connection to database\n",
    "conn = sqlite3.connect('../data/db/avocado_project.db')\n",
    "c = conn.cursor()"
   ]
  },
  {
   "cell_type": "code",
   "execution_count": 6,
   "metadata": {},
   "outputs": [
    {
     "name": "stdout",
     "output_type": "stream",
     "text": [
      "('demographic',)\n",
      "('hab2016',)\n",
      "('hab2017',)\n",
      "('hab2018',)\n"
     ]
    }
   ],
   "source": [
    "list_tables_cmd = \"SELECT name FROM sqlite_master WHERE type='table';\"\n",
    "c.execute(list_tables_cmd)\n",
    "conn.commit()\n",
    "\n",
    "for row in c:\n",
    "  print(row)"
   ]
  }
 ],
 "metadata": {
  "kernelspec": {
   "display_name": "Python 3",
   "language": "python",
   "name": "python3"
  },
  "language_info": {
   "codemirror_mode": {
    "name": "ipython",
    "version": 3
   },
   "file_extension": ".py",
   "mimetype": "text/x-python",
   "name": "python",
   "nbconvert_exporter": "python",
   "pygments_lexer": "ipython3",
   "version": "3.5.5"
  }
 },
 "nbformat": 4,
 "nbformat_minor": 2
}
