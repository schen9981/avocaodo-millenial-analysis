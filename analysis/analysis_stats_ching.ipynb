{
 "cells": [
  {
   "cell_type": "markdown",
   "metadata": {},
   "source": [
    "## This is our workspace for statistical analysis!"
   ]
  },
  {
   "cell_type": "markdown",
   "metadata": {},
   "source": [
    "Add cells, do exploratory analysis, go ham."
   ]
  },
  {
   "cell_type": "code",
   "execution_count": 4,
   "metadata": {},
   "outputs": [],
   "source": [
    "# feel free to add more\n",
    "\n",
    "import sqlite3\n",
    "import numpy as np\n",
    "import pandas as pd\n",
    "from scipy import stats\n",
    "import statsmodels.api as sm\n",
    "from statsmodels.tools import eval_measures\n",
    "from sklearn.linear_model import LinearRegression\n",
    "import matplotlib.pyplot as plt"
   ]
  },
  {
   "cell_type": "code",
   "execution_count": 5,
   "metadata": {},
   "outputs": [],
   "source": [
    "# Create connection to database\n",
    "conn = sqlite3.connect('../data/db/avocado_project.db')\n",
    "c = conn.cursor()"
   ]
  },
  {
   "cell_type": "code",
   "execution_count": 6,
   "metadata": {},
   "outputs": [
    {
     "name": "stdout",
     "output_type": "stream",
     "text": [
      "('demographic',)\n",
      "('hab2016',)\n",
      "('hab2017',)\n",
      "('hab2018',)\n",
      "('joined_data',)\n"
     ]
    }
   ],
   "source": [
    "# Print out tables in database\n",
    "list_tables_cmd = \"SELECT name FROM sqlite_master WHERE type='table';\"\n",
    "c.execute(list_tables_cmd)\n",
    "conn.commit()\n",
    "\n",
    "for row in c:\n",
    "  print(row)"
   ]
  },
  {
   "cell_type": "code",
   "execution_count": 7,
   "metadata": {},
   "outputs": [],
   "source": [
    "# Load all tables into dataframe\n",
    "query1 = \"SELECT * FROM demographic\"\n",
    "demo_df = pd.read_sql(query1, conn)\n",
    "\n",
    "query2 = \"SELECT * FROM hab2016\"\n",
    "hab2016_df = pd.read_sql(query2, conn)\n",
    "hab2016_df.rename(columns={'units_current_year': '2016_units_current_year',\n",
    "                          'dollars_current_year': '2016_dollars_current_year',\n",
    "                          'asp_current_year': '2016_asp_current_year'}, inplace=True)\n",
    "\n",
    "query3 = \"SELECT * FROM hab2017\"\n",
    "hab2017_df = pd.read_sql(query3, conn)\n",
    "hab2017_df.rename(columns={'units_current_year': '2017_units_current_year',\n",
    "                          'dollars_current_year': '2017_dollars_current_year',\n",
    "                          'asp_current_year': '2017_asp_current_year'}, inplace=True)\n",
    "\n",
    "query4 = \"SELECT * FROM hab2018\"\n",
    "hab2018_df = pd.read_sql(query4, conn)\n",
    "hab2018_df.rename(columns={'units_current_year': '2018_units_current_year',\n",
    "                          'dollars_current_year': '2018_dollars_current_year',\n",
    "                          'asp_current_year': '2018_asp_current_year'}, inplace=True)"
   ]
  },
  {
   "cell_type": "code",
   "execution_count": 8,
   "metadata": {},
   "outputs": [],
   "source": [
    "mean_pop = []\n",
    "median_pop = []\n",
    "stddev_pop = []\n",
    "\n",
    "for index, row in demo_df.iterrows():\n",
    "    pop_list = [row['pop2016'], row['pop2017'], row['pop2018']]\n",
    "    means = np.mean(pop_list)\n",
    "    median = np.median(pop_list)\n",
    "    std_dev = np.std(pop_list)\n",
    "    mean_pop.append(means)\n",
    "    median_pop.append(median)\n",
    "    stddev_pop.append(std_dev)\n",
    "    \n",
    "demo_df[\"Mean Population\"] = mean_pop\n",
    "demo_df[\"Median Population\"] = median_pop\n",
    "demo_df[\"Standard Deviation Population\"] = stddev_pop"
   ]
  },
  {
   "cell_type": "code",
   "execution_count": null,
   "metadata": {},
   "outputs": [],
   "source": []
  },
  {
   "cell_type": "code",
   "execution_count": 9,
   "metadata": {},
   "outputs": [],
   "source": [
    "# Load all tables into dataframe\n",
    "# query1 = \"SELECT * FROM demographic\"\n",
    "# demo_df = pd.read_sql(query1, conn)\n",
    "\n",
    "query2 = \"SELECT * FROM hab2016\"\n",
    "hab2016_raw_df = pd.read_sql(query2, conn)\n",
    "hab2016_raw_df['Year'] = 2016\n",
    "\n",
    "query3 = \"SELECT * FROM hab2017\"\n",
    "hab2017_raw_df = pd.read_sql(query3, conn)\n",
    "hab2017_raw_df['Year'] = 2017\n",
    "\n",
    "query4 = \"SELECT * FROM hab2018\"\n",
    "hab2018_raw_df = pd.read_sql(query4, conn)\n",
    "hab2018_raw_df['Year'] = 2018"
   ]
  },
  {
   "cell_type": "code",
   "execution_count": 10,
   "metadata": {},
   "outputs": [],
   "source": [
    "# join all three avocado data frames\n",
    "hab_df = pd.concat([hab2016_raw_df, hab2017_raw_df, hab2018_raw_df], axis=1)"
   ]
  },
  {
   "cell_type": "code",
   "execution_count": 11,
   "metadata": {},
   "outputs": [],
   "source": [
    "region = []\n",
    "current_units_mean = []\n",
    "current_units_median = []\n",
    "current_units_stddev = []\n",
    "\n",
    "current_dollars_mean = []\n",
    "current_dollars_median = []\n",
    "current_dollars_stddev = []\n",
    "\n",
    "current_asp_mean = []\n",
    "current_asp_median = []\n",
    "current_asp_stddev = []\n",
    "\n",
    "for index, row in hab2016_df.iterrows(): \n",
    "    region.append(row['region'])\n",
    "    for index1, row1 in hab2017_df.iterrows():\n",
    "        for index2, row2 in hab2018_df.iterrows():\n",
    "            current_units_list = [row['2016_units_current_year'], row1['2017_units_current_year'], row2['2018_units_current_year']]\n",
    "            current_dollars_list = [row['2016_dollars_current_year'], row1['2017_dollars_current_year'], row2['2018_dollars_current_year']]\n",
    "            current_asp_list = [row['2016_asp_current_year'], row1['2017_asp_current_year'], row2['2018_asp_current_year']]\n",
    "            \n",
    "    units_mean = np.mean(current_units_list)\n",
    "    units_median = np.median(current_units_list)\n",
    "    units_std_dev = np.std(current_units_list)\n",
    "    current_units_mean.append(units_mean)\n",
    "    current_units_median.append(units_median)\n",
    "    current_units_stddev.append(units_std_dev)\n",
    "            \n",
    "    dollars_mean = np.mean(current_dollars_list)\n",
    "    dollars_median = np.median(current_dollars_list)\n",
    "    dollars_std_dev = np.std(current_dollars_list)\n",
    "    current_dollars_mean.append(dollars_mean)\n",
    "    current_dollars_median.append(dollars_median)\n",
    "    current_dollars_stddev.append(dollars_std_dev)\n",
    "            \n",
    "    asp_mean = np.mean(current_asp_list)  \n",
    "    asp_median = np.median(current_asp_list)\n",
    "    asp_std_dev = np.std(current_asp_list)  \n",
    "    current_asp_mean.append(asp_mean)\n",
    "    current_asp_median.append(asp_median)\n",
    "    current_asp_stddev.append(asp_std_dev)\n",
    "            \n",
    "combined_avo_data = {'region' : region,\n",
    "                     'units_current_year_mean' : current_units_mean, \n",
    "                     'units_current_year_median' : current_units_median,\n",
    "                    'units_current_year_std_dev' : current_units_stddev,\n",
    "                    'dollars_current_year_mean' : current_dollars_mean, \n",
    "                     'dollars_current_year_median' : current_dollars_median,\n",
    "                    'dollars_current_year_std_dev' : current_dollars_stddev,\n",
    "                    'asp_current_year_mean' : current_asp_mean, \n",
    "                     'asp_current_year_median' : current_asp_median,\n",
    "                    'asp_current_year_std_dev' : current_asp_stddev}\n",
    "\n",
    "combined_avo_df = pd.DataFrame(combined_avo_data)"
   ]
  },
  {
   "cell_type": "code",
   "execution_count": 14,
   "metadata": {
    "scrolled": true
   },
   "outputs": [
    {
     "data": {
      "text/html": [
       "<div>\n",
       "<style scoped>\n",
       "    .dataframe tbody tr th:only-of-type {\n",
       "        vertical-align: middle;\n",
       "    }\n",
       "\n",
       "    .dataframe tbody tr th {\n",
       "        vertical-align: top;\n",
       "    }\n",
       "\n",
       "    .dataframe thead th {\n",
       "        text-align: right;\n",
       "    }\n",
       "</style>\n",
       "<table border=\"1\" class=\"dataframe\">\n",
       "  <thead>\n",
       "    <tr style=\"text-align: right;\">\n",
       "      <th></th>\n",
       "      <th>age</th>\n",
       "      <th>pop2016</th>\n",
       "      <th>pop2017</th>\n",
       "      <th>pop2018</th>\n",
       "      <th>Mean Population</th>\n",
       "      <th>Median Population</th>\n",
       "      <th>Standard Deviation Population</th>\n",
       "    </tr>\n",
       "  </thead>\n",
       "  <tbody>\n",
       "    <tr>\n",
       "      <th>count</th>\n",
       "      <td>256.000000</td>\n",
       "      <td>256.000000</td>\n",
       "      <td>256.000000</td>\n",
       "      <td>256.000000</td>\n",
       "      <td>256.000000</td>\n",
       "      <td>256.000000</td>\n",
       "      <td>256.000000</td>\n",
       "    </tr>\n",
       "    <tr>\n",
       "      <th>mean</th>\n",
       "      <td>27.500000</td>\n",
       "      <td>273738.703125</td>\n",
       "      <td>274983.199219</td>\n",
       "      <td>276028.218750</td>\n",
       "      <td>274916.707031</td>\n",
       "      <td>274952.558594</td>\n",
       "      <td>3796.086868</td>\n",
       "    </tr>\n",
       "    <tr>\n",
       "      <th>std</th>\n",
       "      <td>4.618802</td>\n",
       "      <td>64981.381363</td>\n",
       "      <td>65022.503640</td>\n",
       "      <td>65120.031945</td>\n",
       "      <td>64885.208319</td>\n",
       "      <td>64988.611562</td>\n",
       "      <td>2587.869534</td>\n",
       "    </tr>\n",
       "    <tr>\n",
       "      <th>min</th>\n",
       "      <td>20.000000</td>\n",
       "      <td>132729.000000</td>\n",
       "      <td>133290.000000</td>\n",
       "      <td>133884.000000</td>\n",
       "      <td>134225.333333</td>\n",
       "      <td>133585.000000</td>\n",
       "      <td>262.163223</td>\n",
       "    </tr>\n",
       "    <tr>\n",
       "      <th>25%</th>\n",
       "      <td>23.750000</td>\n",
       "      <td>249830.500000</td>\n",
       "      <td>251822.250000</td>\n",
       "      <td>253082.000000</td>\n",
       "      <td>252347.500000</td>\n",
       "      <td>252361.250000</td>\n",
       "      <td>1907.393350</td>\n",
       "    </tr>\n",
       "    <tr>\n",
       "      <th>50%</th>\n",
       "      <td>27.500000</td>\n",
       "      <td>277373.000000</td>\n",
       "      <td>279592.500000</td>\n",
       "      <td>280493.000000</td>\n",
       "      <td>280072.333333</td>\n",
       "      <td>279762.000000</td>\n",
       "      <td>3236.344285</td>\n",
       "    </tr>\n",
       "    <tr>\n",
       "      <th>75%</th>\n",
       "      <td>31.250000</td>\n",
       "      <td>301072.250000</td>\n",
       "      <td>303494.750000</td>\n",
       "      <td>305040.000000</td>\n",
       "      <td>301842.583333</td>\n",
       "      <td>302387.000000</td>\n",
       "      <td>4935.842549</td>\n",
       "    </tr>\n",
       "    <tr>\n",
       "      <th>max</th>\n",
       "      <td>35.000000</td>\n",
       "      <td>412189.000000</td>\n",
       "      <td>415091.000000</td>\n",
       "      <td>416227.000000</td>\n",
       "      <td>409211.333333</td>\n",
       "      <td>410401.000000</td>\n",
       "      <td>12347.750411</td>\n",
       "    </tr>\n",
       "  </tbody>\n",
       "</table>\n",
       "</div>"
      ],
      "text/plain": [
       "              age        pop2016        pop2017        pop2018  \\\n",
       "count  256.000000     256.000000     256.000000     256.000000   \n",
       "mean    27.500000  273738.703125  274983.199219  276028.218750   \n",
       "std      4.618802   64981.381363   65022.503640   65120.031945   \n",
       "min     20.000000  132729.000000  133290.000000  133884.000000   \n",
       "25%     23.750000  249830.500000  251822.250000  253082.000000   \n",
       "50%     27.500000  277373.000000  279592.500000  280493.000000   \n",
       "75%     31.250000  301072.250000  303494.750000  305040.000000   \n",
       "max     35.000000  412189.000000  415091.000000  416227.000000   \n",
       "\n",
       "       Mean Population  Median Population  Standard Deviation Population  \n",
       "count       256.000000         256.000000                     256.000000  \n",
       "mean     274916.707031      274952.558594                    3796.086868  \n",
       "std       64885.208319       64988.611562                    2587.869534  \n",
       "min      134225.333333      133585.000000                     262.163223  \n",
       "25%      252347.500000      252361.250000                    1907.393350  \n",
       "50%      280072.333333      279762.000000                    3236.344285  \n",
       "75%      301842.583333      302387.000000                    4935.842549  \n",
       "max      409211.333333      410401.000000                   12347.750411  "
      ]
     },
     "execution_count": 14,
     "metadata": {},
     "output_type": "execute_result"
    }
   ],
   "source": [
    "# summarize dataframe\n",
    "demo_df.describe()"
   ]
  },
  {
   "cell_type": "code",
   "execution_count": null,
   "metadata": {},
   "outputs": [],
   "source": []
  },
  {
   "cell_type": "code",
   "execution_count": 15,
   "metadata": {},
   "outputs": [],
   "source": [
    "# parse out rows that correspon to millenials\n",
    "demo_df = demo_df.loc[(demo_df['age'] <= 35) & (demo_df['age'] >= 20)]\n",
    "# todo sum F and M together to get total population"
   ]
  },
  {
   "cell_type": "code",
   "execution_count": null,
   "metadata": {},
   "outputs": [],
   "source": [
    "\n"
   ]
  },
  {
   "cell_type": "code",
   "execution_count": 16,
   "metadata": {},
   "outputs": [],
   "source": [
    "query = \"SELECT * FROM joined_data\"\n",
    "df = pd.read_sql(query, conn)\n",
    "millenialpop = df['millenial_pop']\n",
    "boomerpop = df['boomer_pop']\n",
    "totalpop = df['total_pop']\n",
    "millenialpercent = (millenialpop / totalpop) * 100\n",
    "boomerpercent = (boomerpop / totalpop) * 100\n",
    "df['millenial_pop_percent'] = millenialpercent\n",
    "df['boomer_percent'] = boomerpercent"
   ]
  },
  {
   "cell_type": "code",
   "execution_count": null,
   "metadata": {},
   "outputs": [],
   "source": []
  },
  {
   "cell_type": "code",
   "execution_count": 17,
   "metadata": {},
   "outputs": [
    {
     "name": "stdout",
     "output_type": "stream",
     "text": [
      "                            OLS Regression Results                            \n",
      "==============================================================================\n",
      "Dep. Variable:                      y   R-squared:                       0.710\n",
      "Model:                            OLS   Adj. R-squared:                  0.662\n",
      "Method:                 Least Squares   F-statistic:                     14.72\n",
      "Date:                Thu, 16 Apr 2020   Prob (F-statistic):            0.00859\n",
      "Time:                        17:05:03   Log-Likelihood:                -10.928\n",
      "No. Observations:                   8   AIC:                             25.86\n",
      "Df Residuals:                       6   BIC:                             26.02\n",
      "Df Model:                           1                                         \n",
      "Covariance Type:            nonrobust                                         \n",
      "==============================================================================\n",
      "                 coef    std err          t      P>|t|      [0.025      0.975]\n",
      "------------------------------------------------------------------------------\n",
      "const        -33.2165     10.009     -3.319      0.016     -57.709      -8.724\n",
      "x1             1.7489      0.456      3.837      0.009       0.634       2.864\n",
      "==============================================================================\n",
      "Omnibus:                        3.443   Durbin-Watson:                   0.686\n",
      "Prob(Omnibus):                  0.179   Jarque-Bera (JB):                1.149\n",
      "Skew:                           0.928   Prob(JB):                        0.563\n",
      "Kurtosis:                       3.005   Cond. No.                         569.\n",
      "==============================================================================\n",
      "\n",
      "Warnings:\n",
      "[1] Standard Errors assume that the covariance matrix of the errors is correctly specified.\n"
     ]
    },
    {
     "name": "stderr",
     "output_type": "stream",
     "text": [
      "/Library/Frameworks/Python.framework/Versions/3.7/lib/python3.7/site-packages/scipy/stats/stats.py:1535: UserWarning: kurtosistest only valid for n>=20 ... continuing anyway, n=8\n",
      "  \"anyway, n=%i\" % int(n))\n"
     ]
    }
   ],
   "source": [
    "millenial_percent_2016 = df[df['year']==2016]['millenial_pop_percent']\n",
    "avo_cap_2016 = df[df['year']==2016]['per_cap_avo_sold']\n",
    "x = millenial_percent_2016\n",
    "y = avo_cap_2016\n",
    "x, y = np.array(x), np.array(y)\n",
    "x = sm.add_constant(x)\n",
    "model = sm.OLS(y, x)\n",
    "results = model.fit()\n",
    "print(results.summary())"
   ]
  },
  {
   "cell_type": "code",
   "execution_count": 18,
   "metadata": {},
   "outputs": [
    {
     "name": "stdout",
     "output_type": "stream",
     "text": [
      "                            OLS Regression Results                            \n",
      "==============================================================================\n",
      "Dep. Variable:                      y   R-squared:                       0.690\n",
      "Model:                            OLS   Adj. R-squared:                  0.639\n",
      "Method:                 Least Squares   F-statistic:                     13.38\n",
      "Date:                Thu, 16 Apr 2020   Prob (F-statistic):             0.0106\n",
      "Time:                        17:05:05   Log-Likelihood:                -12.289\n",
      "No. Observations:                   8   AIC:                             28.58\n",
      "Df Residuals:                       6   BIC:                             28.74\n",
      "Df Model:                           1                                         \n",
      "Covariance Type:            nonrobust                                         \n",
      "==============================================================================\n",
      "                 coef    std err          t      P>|t|      [0.025      0.975]\n",
      "------------------------------------------------------------------------------\n",
      "const        -37.7401     11.958     -3.156      0.020     -67.000      -8.481\n",
      "x1             1.9961      0.546      3.657      0.011       0.661       3.332\n",
      "==============================================================================\n",
      "Omnibus:                        1.535   Durbin-Watson:                   0.748\n",
      "Prob(Omnibus):                  0.464   Jarque-Bera (JB):                0.628\n",
      "Skew:                           0.659   Prob(JB):                        0.730\n",
      "Kurtosis:                       2.615   Cond. No.                         572.\n",
      "==============================================================================\n",
      "\n",
      "Warnings:\n",
      "[1] Standard Errors assume that the covariance matrix of the errors is correctly specified.\n"
     ]
    }
   ],
   "source": [
    "millenial_percent_2017 = df[df['year']==2017]['millenial_pop_percent']\n",
    "avo_cap_2017 = df[df['year']==2017]['per_cap_avo_sold']\n",
    "x = millenial_percent_2017\n",
    "y = avo_cap_2017\n",
    "x, y = np.array(x), np.array(y)\n",
    "x = sm.add_constant(x)\n",
    "model = sm.OLS(y, x)\n",
    "results = model.fit()\n",
    "print(results.summary())"
   ]
  },
  {
   "cell_type": "code",
   "execution_count": 34,
   "metadata": {},
   "outputs": [
    {
     "name": "stdout",
     "output_type": "stream",
     "text": [
      "                            OLS Regression Results                            \n",
      "==============================================================================\n",
      "Dep. Variable:                      y   R-squared:                       0.645\n",
      "Model:                            OLS   Adj. R-squared:                  0.586\n",
      "Method:                 Least Squares   F-statistic:                     10.89\n",
      "Date:                Thu, 16 Apr 2020   Prob (F-statistic):             0.0164\n",
      "Time:                        10:43:27   Log-Likelihood:                -13.280\n",
      "No. Observations:                   8   AIC:                             30.56\n",
      "Df Residuals:                       6   BIC:                             30.72\n",
      "Df Model:                           1                                         \n",
      "Covariance Type:            nonrobust                                         \n",
      "==============================================================================\n",
      "                 coef    std err          t      P>|t|      [0.025      0.975]\n",
      "------------------------------------------------------------------------------\n",
      "const        -38.1766     13.666     -2.794      0.031     -71.615      -4.738\n",
      "x1             2.0644      0.625      3.301      0.016       0.534       3.595\n",
      "==============================================================================\n",
      "Omnibus:                        0.966   Durbin-Watson:                   0.572\n",
      "Prob(Omnibus):                  0.617   Jarque-Bera (JB):                0.719\n",
      "Skew:                           0.492   Prob(JB):                        0.698\n",
      "Kurtosis:                       1.910   Cond. No.                         576.\n",
      "==============================================================================\n",
      "\n",
      "Warnings:\n",
      "[1] Standard Errors assume that the covariance matrix of the errors is correctly specified.\n"
     ]
    }
   ],
   "source": [
    "millenial_percent_2018 = df[df['year']==2018]['millenial_pop_percent']\n",
    "avo_cap_2018 = df[df['year']==2018]['per_cap_avo_sold']\n",
    "x = millenial_percent_2018\n",
    "y = avo_cap_2018\n",
    "x, y = np.array(x), np.array(y)\n",
    "x = sm.add_constant(x)\n",
    "model = sm.OLS(y, x)\n",
    "results = model.fit()\n",
    "print(results.summary())"
   ]
  },
  {
   "cell_type": "code",
   "execution_count": null,
   "metadata": {},
   "outputs": [],
   "source": []
  },
  {
   "cell_type": "code",
   "execution_count": 2,
   "metadata": {},
   "outputs": [],
   "source": [
    "def reject_or_not(test_statistic, lower_crit_val, upper_crit_val):\n",
    "  print(f\"test_statistic={test_statistic:.5f}, lower_critical_value={lower_crit_val:.5f}, upper_critical_value={upper_crit_val:.5f}\")\n",
    "  if lower_crit_val <= test_statistic <= upper_crit_val:\n",
    "    print(\"We therefore fail to reject the null hypothesis and cannot accept the alternate hypothesis.\")\n",
    "  else:\n",
    "    print(\"We therefore reject the null hypothesis and accept the alternate hypothesis.\")"
   ]
  },
  {
   "cell_type": "code",
   "execution_count": 1,
   "metadata": {
    "scrolled": true
   },
   "outputs": [],
   "source": [
    "def degrees_of_freedom(a, b):\n",
    "  s_1 = np.var(a)\n",
    "  s_2 = np.var(b)\n",
    "  n_1 = np.shape(a)[0]\n",
    "  n_2 = np.shape(b)[0]\n",
    "\n",
    "  nr = ((s_1/n_1) + (s_2/n_2))**2\n",
    "  dr = (((s_1/n_1)**2)/(n_1 - 1)) + (((s_2/n_2)**2)/(n_2 - 1))\n",
    "  return nr / dr"
   ]
  },
  {
   "cell_type": "code",
   "execution_count": null,
   "metadata": {},
   "outputs": [],
   "source": []
  },
  {
   "cell_type": "code",
   "execution_count": null,
   "metadata": {},
   "outputs": [],
   "source": []
  },
  {
   "cell_type": "code",
   "execution_count": 20,
   "metadata": {},
   "outputs": [
    {
     "data": {
      "image/png": "[encoded data removed]",
      "text/plain": [
       "<Figure size 432x288 with 1 Axes>"
      ]
     },
     "metadata": {
      "needs_background": "light"
     },
     "output_type": "display_data"
    }
   ],
   "source": [
    "millenial_percent = df['millenial_pop_percent']\n",
    "avo_cap = df['per_cap_avo_sold']\n",
    "plt.scatter(millenial_percent, avo_cap)\n",
    "plt.title(\"Avocado Consumption Per Capita vs. Proportion of Millenial Population Across Regions 2016-2018\")\n",
    "plt.xlabel(\"Millenial Population Percentage\")\n",
    "plt.ylabel(\"Avocado Consumption Per Capita\")\n",
    "plt.show()"
   ]
  },
  {
   "cell_type": "code",
   "execution_count": null,
   "metadata": {},
   "outputs": [],
   "source": []
  }
 ],
 "metadata": {
  "kernelspec": {
   "display_name": "Python 3",
   "language": "python",
   "name": "python3"
  },
  "language_info": {
   "codemirror_mode": {
    "name": "ipython",
    "version": 3
   },
   "file_extension": ".py",
   "mimetype": "text/x-python",
   "name": "python",
   "nbconvert_exporter": "python",
   "pygments_lexer": "ipython3",
   "version": "3.7.7"
  }
 },
 "nbformat": 4,
 "nbformat_minor": 2
}
